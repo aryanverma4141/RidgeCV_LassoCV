{
 "cells": [
  {
   "cell_type": "code",
   "execution_count": 1,
   "id": "6f75d218-f188-47c8-bc21-7807c74485f7",
   "metadata": {},
   "outputs": [],
   "source": [
    "# libraries\n",
    "import pandas as pd\n",
    "import numpy as np\n",
    "import seaborn as sns\n",
    "import matplotlib.pyplot as plt\n",
    "from sklearn.model_selection import train_test_split\n",
    "from sklearn.linear_model import LinearRegression, Ridge, Lasso, ElasticNet\n",
    "from sklearn.preprocessing import StandardScaler\n",
    "from sklearn.datasets import fetch_california_housing\n",
    "import sklearn.cross_decomposition as cv\n",
    "import sklearn"
   ]
  },
  {
   "cell_type": "code",
   "execution_count": 2,
   "id": "be7693ac-3168-4644-8f42-d91c29546d7e",
   "metadata": {},
   "outputs": [],
   "source": [
    "dataset = fetch_california_housing()\n",
    "X = dataset['data']\n",
    "y = dataset['target']\n",
    "X_train, X_test, y_train, y_test = train_test_split(X, y, test_size = 0.2, random_state=15)"
   ]
  },
  {
   "cell_type": "code",
   "execution_count": 3,
   "id": "f7cc6065-b7b2-46da-9c50-b9242dbb029a",
   "metadata": {},
   "outputs": [
    {
     "data": {
      "text/plain": [
       "((20640, 8), (20640,))"
      ]
     },
     "execution_count": 3,
     "metadata": {},
     "output_type": "execute_result"
    }
   ],
   "source": [
    "X.shape, y.shape"
   ]
  },
  {
   "cell_type": "code",
   "execution_count": 4,
   "id": "ed297ee2-0697-4ccc-9c48-9ffc0c36a8da",
   "metadata": {},
   "outputs": [
    {
     "data": {
      "text/plain": [
       "{'data': array([[   8.3252    ,   41.        ,    6.98412698, ...,    2.55555556,\n",
       "           37.88      , -122.23      ],\n",
       "        [   8.3014    ,   21.        ,    6.23813708, ...,    2.10984183,\n",
       "           37.86      , -122.22      ],\n",
       "        [   7.2574    ,   52.        ,    8.28813559, ...,    2.80225989,\n",
       "           37.85      , -122.24      ],\n",
       "        ...,\n",
       "        [   1.7       ,   17.        ,    5.20554273, ...,    2.3256351 ,\n",
       "           39.43      , -121.22      ],\n",
       "        [   1.8672    ,   18.        ,    5.32951289, ...,    2.12320917,\n",
       "           39.43      , -121.32      ],\n",
       "        [   2.3886    ,   16.        ,    5.25471698, ...,    2.61698113,\n",
       "           39.37      , -121.24      ]]),\n",
       " 'target': array([4.526, 3.585, 3.521, ..., 0.923, 0.847, 0.894]),\n",
       " 'frame': None,\n",
       " 'target_names': ['MedHouseVal'],\n",
       " 'feature_names': ['MedInc',\n",
       "  'HouseAge',\n",
       "  'AveRooms',\n",
       "  'AveBedrms',\n",
       "  'Population',\n",
       "  'AveOccup',\n",
       "  'Latitude',\n",
       "  'Longitude'],\n",
       " 'DESCR': '.. _california_housing_dataset:\\n\\nCalifornia Housing dataset\\n--------------------------\\n\\n**Data Set Characteristics:**\\n\\n    :Number of Instances: 20640\\n\\n    :Number of Attributes: 8 numeric, predictive attributes and the target\\n\\n    :Attribute Information:\\n        - MedInc        median income in block group\\n        - HouseAge      median house age in block group\\n        - AveRooms      average number of rooms per household\\n        - AveBedrms     average number of bedrooms per household\\n        - Population    block group population\\n        - AveOccup      average number of household members\\n        - Latitude      block group latitude\\n        - Longitude     block group longitude\\n\\n    :Missing Attribute Values: None\\n\\nThis dataset was obtained from the StatLib repository.\\nhttps://www.dcc.fc.up.pt/~ltorgo/Regression/cal_housing.html\\n\\nThe target variable is the median house value for California districts,\\nexpressed in hundreds of thousands of dollars ($100,000).\\n\\nThis dataset was derived from the 1990 U.S. census, using one row per census\\nblock group. A block group is the smallest geographical unit for which the U.S.\\nCensus Bureau publishes sample data (a block group typically has a population\\nof 600 to 3,000 people).\\n\\nA household is a group of people residing within a home. Since the average\\nnumber of rooms and bedrooms in this dataset are provided per household, these\\ncolumns may take surprisingly large values for block groups with few households\\nand many empty houses, such as vacation resorts.\\n\\nIt can be downloaded/loaded using the\\n:func:`sklearn.datasets.fetch_california_housing` function.\\n\\n.. topic:: References\\n\\n    - Pace, R. Kelley and Ronald Barry, Sparse Spatial Autoregressions,\\n      Statistics and Probability Letters, 33 (1997) 291-297\\n'}"
      ]
     },
     "execution_count": 4,
     "metadata": {},
     "output_type": "execute_result"
    }
   ],
   "source": [
    "dataset"
   ]
  },
  {
   "cell_type": "code",
   "execution_count": 5,
   "id": "964eb87c-9afa-487f-a549-4025887a7741",
   "metadata": {},
   "outputs": [
    {
     "name": "stdout",
     "output_type": "stream",
     "text": [
      "The train score for Linear Regression model is 0.6090156808313738\n"
     ]
    }
   ],
   "source": [
    "# Linear Regression\n",
    "LR = LinearRegression()\n",
    "LR.fit(X_train, y_train)\n",
    "train_score_LR = LR.score(X_train, y_train)\n",
    "print(f\"The train score for Linear Regression model is {train_score_LR}\")"
   ]
  },
  {
   "cell_type": "code",
   "execution_count": 6,
   "id": "46397c83-dd06-4fe5-81fc-f57955c5ec2a",
   "metadata": {},
   "outputs": [
    {
     "name": "stdout",
     "output_type": "stream",
     "text": [
      "The train score for lasso model is 0.5488267992849574\n"
     ]
    }
   ],
   "source": [
    "# Lasso Regression model\n",
    "lasso = Lasso(alpha = 0.1) # alpha = 0.1 ---> Percentage of penalty\n",
    "lasso.fit(X_train, y_train)\n",
    "train_score_ls = lasso.score(X_train, y_train)\n",
    "print(f'The train score for lasso model is {train_score_ls}')"
   ]
  },
  {
   "cell_type": "code",
   "execution_count": 7,
   "id": "c6ae82ee-e055-4f44-a863-9c6dff8c1d3b",
   "metadata": {},
   "outputs": [
    {
     "name": "stdout",
     "output_type": "stream",
     "text": [
      "The train score for ridge model is 0.6090156804624769\n"
     ]
    }
   ],
   "source": [
    "# Ridge Regression model\n",
    "ridgeReg = Ridge(alpha=0.1)\n",
    "ridgeReg.fit(X_train, y_train)\n",
    "train_score_ridge = ridgeReg.score(X_train, y_train)\n",
    "print(f'The train score for ridge model is {train_score_ridge}')"
   ]
  },
  {
   "cell_type": "code",
   "execution_count": 8,
   "id": "ef64ef77-56b5-4f10-8a9d-8bf5df43516a",
   "metadata": {},
   "outputs": [
    {
     "name": "stdout",
     "output_type": "stream",
     "text": [
      "The train score for ElasticNet model is 0.5797162482125511\n"
     ]
    }
   ],
   "source": [
    "elasticNet = ElasticNet(alpha=0.1).fit(X_train, y_train)\n",
    "train_score_en = elasticNet.score(X_train, y_train)\n",
    "print(f'The train score for ElasticNet model is {train_score_en}')"
   ]
  },
  {
   "cell_type": "code",
   "execution_count": 9,
   "id": "a2c7ad9f-0782-491a-9d91-5067b81ab285",
   "metadata": {},
   "outputs": [],
   "source": [
    "# Testing model on testing dataset\n",
    "test_score_LR = LR.score(X_test, y_test)\n",
    "test_score_ls = lasso.score(X_test, y_test)\n",
    "test_score_ridge = ridgeReg.score(X_test, y_test)\n",
    "test_score_en = elasticNet.score(X_test, y_test)\n",
    "result = pd.DataFrame({'LR': [train_score_LR, test_score_LR],\n",
    "                      'Lasso': [train_score_ls, test_score_ls],\n",
    "                      'Ridge': [train_score_ridge, test_score_ridge],\n",
    "                      'ElasticNet':[train_score_en, test_score_en]}, index = ['Train_score','Test_score'])"
   ]
  },
  {
   "cell_type": "code",
   "execution_count": 10,
   "id": "4f56d063-5c6b-42e5-aeff-fa8a7d881d6e",
   "metadata": {},
   "outputs": [
    {
     "data": {
      "text/html": [
       "<div>\n",
       "<style scoped>\n",
       "    .dataframe tbody tr th:only-of-type {\n",
       "        vertical-align: middle;\n",
       "    }\n",
       "\n",
       "    .dataframe tbody tr th {\n",
       "        vertical-align: top;\n",
       "    }\n",
       "\n",
       "    .dataframe thead th {\n",
       "        text-align: right;\n",
       "    }\n",
       "</style>\n",
       "<table border=\"1\" class=\"dataframe\">\n",
       "  <thead>\n",
       "    <tr style=\"text-align: right;\">\n",
       "      <th></th>\n",
       "      <th>LR</th>\n",
       "      <th>Lasso</th>\n",
       "      <th>Ridge</th>\n",
       "      <th>ElasticNet</th>\n",
       "    </tr>\n",
       "  </thead>\n",
       "  <tbody>\n",
       "    <tr>\n",
       "      <th>Train_score</th>\n",
       "      <td>0.609016</td>\n",
       "      <td>0.548827</td>\n",
       "      <td>0.609016</td>\n",
       "      <td>0.579716</td>\n",
       "    </tr>\n",
       "    <tr>\n",
       "      <th>Test_score</th>\n",
       "      <td>0.594579</td>\n",
       "      <td>0.523638</td>\n",
       "      <td>0.594578</td>\n",
       "      <td>0.557387</td>\n",
       "    </tr>\n",
       "  </tbody>\n",
       "</table>\n",
       "</div>"
      ],
      "text/plain": [
       "                   LR     Lasso     Ridge  ElasticNet\n",
       "Train_score  0.609016  0.548827  0.609016    0.579716\n",
       "Test_score   0.594579  0.523638  0.594578    0.557387"
      ]
     },
     "execution_count": 10,
     "metadata": {},
     "output_type": "execute_result"
    }
   ],
   "source": [
    "result"
   ]
  },
  {
   "cell_type": "code",
   "execution_count": 11,
   "id": "9185ef24-a1c1-415d-8119-dafd15071c28",
   "metadata": {},
   "outputs": [
    {
     "data": {
      "image/png": "[encoded data removed]",
      "text/plain": [
       "<Figure size 640x480 with 1 Axes>"
      ]
     },
     "metadata": {},
     "output_type": "display_data"
    }
   ],
   "source": [
    "# Let's plot the co-efficients for all the 4 regression models\n",
    "# plt.figure(figsize=(6,6))\n",
    "plt.plot(dataset.feature_names, ridgeReg.coef_, alpha = 1, linestyle = 'none', \n",
    "        marker = '*', markersize = 5, c = 'red', label = r'Ridge; $\\alpha = 0.1$', zorder = 7)\n",
    "plt.plot(dataset.feature_names, LR.coef_, alpha = 0.6, linestyle = 'none', \n",
    "        marker = 'o', markersize = 7, c = 'green', label = 'Linear Regression')\n",
    "plt.plot(dataset.feature_names, lasso.coef_, alpha = 0.8, linestyle = 'none', \n",
    "        marker = 'x', markersize = 9, c = 'blue', label = 'Lasso Regression')\n",
    "plt.plot(dataset.feature_names, elasticNet.coef_, alpha = 0.9, linestyle = 'none', \n",
    "        marker = 'd', markersize = 10, c = 'magenta', label = 'ElasticNet Regression')\n",
    "plt.xticks(rotation = 45)\n",
    "plt.title('Comparing the co-efficient values of ER, Lssso, Ridge and Enet models')\n",
    "plt.legend()\n",
    "plt.show()"
   ]
  },
  {
   "cell_type": "markdown",
   "id": "12eaaf5b-38ac-4c47-b652-008c2a8a34bb",
   "metadata": {},
   "source": [
    "## Using Cross Validation"
   ]
  },
  {
   "cell_type": "code",
   "execution_count": 12,
   "id": "97a9cf88-d7c6-4344-87a4-d12810ab9207",
   "metadata": {},
   "outputs": [],
   "source": [
    "from sklearn.linear_model import LassoCV, RidgeCV, ElasticNetCV"
   ]
  },
  {
   "cell_type": "markdown",
   "id": "73814fc5-4297-47ad-9611-be395470bbd9",
   "metadata": {},
   "source": [
    "#### Lasso Cross Validation"
   ]
  },
  {
   "cell_type": "code",
   "execution_count": 13,
   "id": "01908332-690d-476b-9bf2-cc5f78e996bb",
   "metadata": {},
   "outputs": [
    {
     "name": "stdout",
     "output_type": "stream",
     "text": [
      "Training score: 0.6088668691740275\n",
      "0.002\n"
     ]
    }
   ],
   "source": [
    "lasso_cv = LassoCV(alphas=[0.0001, 0.0002, 0.0009, 0.001, 0.002, 0.003, 0.0035, 0.0003, 0.01, 0.1, 1, 10], random_state=10).fit(X_train,y_train)\n",
    "print(f'Training score: {lasso_cv.score(X_train, y_train)}')\n",
    "print(lasso_cv.alpha_)"
   ]
  },
  {
   "cell_type": "markdown",
   "id": "1ec23075-c333-4b65-84bf-dd08670ddf36",
   "metadata": {},
   "source": [
    "#### Ridge Cross Validation"
   ]
  },
  {
   "cell_type": "code",
   "execution_count": 14,
   "id": "2badcaa2-ac8e-44b2-8e21-4735e7558b38",
   "metadata": {},
   "outputs": [
    {
     "name": "stdout",
     "output_type": "stream",
     "text": [
      "Training score: 0.6087460107958624\n",
      "100.0\n"
     ]
    }
   ],
   "source": [
    "ridge_cv = RidgeCV(alphas=[0.0001, 0.001, 0.002, 0.01, 0.02, 0.1, 1, 10, 10.5, 11, 12, 15, 17, 19, 50, 100, 150]).fit(X_train,y_train)\n",
    "print(f'Training score: {ridge_cv.score(X_train, y_train)}')\n",
    "print(ridge_cv.alpha_)"
   ]
  },
  {
   "cell_type": "markdown",
   "id": "8708e077-f96f-49b3-bd94-15dd540b5368",
   "metadata": {},
   "source": [
    "#### ElasticNet Cross Validation"
   ]
  },
  {
   "cell_type": "code",
   "execution_count": 15,
   "id": "1aa9698e-6d52-454e-88cf-5713ba6b372c",
   "metadata": {},
   "outputs": [
    {
     "name": "stdout",
     "output_type": "stream",
     "text": [
      "Training score: 0.6087765684477331\n",
      "0.0035\n"
     ]
    }
   ],
   "source": [
    "enet_cv = ElasticNetCV(alphas=[0.0001, 0.0002, 0.0009, 0.001, 0.002, 0.003, 0.0035, 0.0003, 0.01, 0.1, 1, 10], random_state=10).fit(X_train,y_train)\n",
    "print(f'Training score: {enet_cv.score(X_train, y_train)}')\n",
    "print(enet_cv.alpha_)"
   ]
  },
  {
   "cell_type": "code",
   "execution_count": 16,
   "id": "b60b0a73-680a-4642-8958-1ea2731deb8f",
   "metadata": {},
   "outputs": [
    {
     "name": "stdout",
     "output_type": "stream",
     "text": [
      "[0.0001     0.00021544 0.00046416 0.001      0.00215443 0.00464159\n",
      " 0.01       0.02154435 0.04641589 0.1       ]\n"
     ]
    }
   ],
   "source": [
    "# fitting a lasso regressor for every alpha value\n",
    "alpha = np.logspace(-4,-1,10)\n",
    "np.empty_like(alpha)\n",
    "print(alpha)"
   ]
  },
  {
   "cell_type": "code",
   "execution_count": 17,
   "id": "b6b7c59a-c6c0-4f05-8db9-1b9a7067c8bb",
   "metadata": {},
   "outputs": [
    {
     "name": "stdout",
     "output_type": "stream",
     "text": [
      "[0.60901531 0.60901395 0.60900767 0.60897848 0.608843   0.60821409\n",
      " 0.60529465 0.59836632 0.58788991 0.5488268 ]\n"
     ]
    }
   ],
   "source": [
    "alphas = np.logspace(-4,-1,10)\n",
    "scores = np.empty_like(alphas)\n",
    "\n",
    "for i,a in enumerate(alphas):\n",
    "    lasso = Lasso()\n",
    "    lasso.set_params(alpha = a)\n",
    "    lasso.fit(X_train, y_train)\n",
    "    scores[i] = lasso.score(X_train, y_train)\n",
    "print(scores)"
   ]
  },
  {
   "cell_type": "code",
   "execution_count": 18,
   "id": "94fcb531-8260-48ab-83ad-ec645a356f28",
   "metadata": {},
   "outputs": [
    {
     "name": "stdout",
     "output_type": "stream",
     "text": [
      "0.03432308935225837\n"
     ]
    },
    {
     "data": {
      "image/png": "[encoded data removed]",
      "text/plain": [
       "<Figure size 640x480 with 1 Axes>"
      ]
     },
     "metadata": {},
     "output_type": "display_data"
    }
   ],
   "source": [
    "# comparing alpha values with scores\n",
    "lassocv = LassoCV(random_state=0)\n",
    "lassocv.fit(X_train, y_train)\n",
    "lassocv_score = lassocv.score(X_train, y_train)\n",
    "lassocv_alpha = lassocv.alpha_\n",
    "print(lassocv_alpha)\n",
    "# print('CV', lassocv.coef_)\n",
    "plt.plot(alphas, scores, '-ko')\n",
    "plt.axhline(lassocv_score, color = 'b', ls='--')\n",
    "plt.axvline(lassocv_alpha, color = 'b', ls='--')\n",
    "plt.xlabel(r'$\\alpha$')\n",
    "plt.ylabel('Score')\n",
    "plt.xscale('log')\n",
    "sns.despine(offset=15)"
   ]
  },
  {
   "cell_type": "markdown",
   "id": "c0c74fe5-aab9-413c-8cc5-5baa604a7e7f",
   "metadata": {},
   "source": [
    "### "
   ]
  },
  {
   "cell_type": "markdown",
   "id": "d0d7cb0b-a70b-4f94-ba0f-fd3275cb1905",
   "metadata": {},
   "source": [
    "## Model Tuning"
   ]
  },
  {
   "cell_type": "code",
   "execution_count": 19,
   "id": "b8b06058-8c05-4d1f-8262-7f205fde353b",
   "metadata": {},
   "outputs": [
    {
     "name": "stdout",
     "output_type": "stream",
     "text": [
      "{'fit_time': array([0.05641031, 0.05641031, 0.06291819, 0.06291819, 0.0498879 ]), 'score_time': array([0.        , 0.        , 0.        , 0.        , 0.01301312]), 'estimator': [Pipeline(steps=[('standardscaler', StandardScaler()),\n",
      "                ('ridgecv',\n",
      "                 RidgeCV(alphas=array([1.00000000e-03, 1.37382380e-03, 1.88739182e-03, 2.59294380e-03,\n",
      "       3.56224789e-03, 4.89390092e-03, 6.72335754e-03, 9.23670857e-03,\n",
      "       1.26896100e-02, 1.74332882e-02, 2.39502662e-02, 3.29034456e-02,\n",
      "       4.52035366e-02, 6.21016942e-02, 8.53167852e-02, 1.17210230e-01,\n",
      "       1.61026203e-01, 2.21221629e-01, 3.03919538e-01, 4.17531894e-01,\n",
      "       5.73615251e-01, 7.88046282e-01, 1.08263673e+00, 1.48735211e+00,\n",
      "       2.04335972e+00, 2.80721620e+00, 3.85662042e+00, 5.29831691e+00,\n",
      "       7.27895384e+00, 1.00000000e+01])))]), Pipeline(steps=[('standardscaler', StandardScaler()),\n",
      "                ('ridgecv',\n",
      "                 RidgeCV(alphas=array([1.00000000e-03, 1.37382380e-03, 1.88739182e-03, 2.59294380e-03,\n",
      "       3.56224789e-03, 4.89390092e-03, 6.72335754e-03, 9.23670857e-03,\n",
      "       1.26896100e-02, 1.74332882e-02, 2.39502662e-02, 3.29034456e-02,\n",
      "       4.52035366e-02, 6.21016942e-02, 8.53167852e-02, 1.17210230e-01,\n",
      "       1.61026203e-01, 2.21221629e-01, 3.03919538e-01, 4.17531894e-01,\n",
      "       5.73615251e-01, 7.88046282e-01, 1.08263673e+00, 1.48735211e+00,\n",
      "       2.04335972e+00, 2.80721620e+00, 3.85662042e+00, 5.29831691e+00,\n",
      "       7.27895384e+00, 1.00000000e+01])))]), Pipeline(steps=[('standardscaler', StandardScaler()),\n",
      "                ('ridgecv',\n",
      "                 RidgeCV(alphas=array([1.00000000e-03, 1.37382380e-03, 1.88739182e-03, 2.59294380e-03,\n",
      "       3.56224789e-03, 4.89390092e-03, 6.72335754e-03, 9.23670857e-03,\n",
      "       1.26896100e-02, 1.74332882e-02, 2.39502662e-02, 3.29034456e-02,\n",
      "       4.52035366e-02, 6.21016942e-02, 8.53167852e-02, 1.17210230e-01,\n",
      "       1.61026203e-01, 2.21221629e-01, 3.03919538e-01, 4.17531894e-01,\n",
      "       5.73615251e-01, 7.88046282e-01, 1.08263673e+00, 1.48735211e+00,\n",
      "       2.04335972e+00, 2.80721620e+00, 3.85662042e+00, 5.29831691e+00,\n",
      "       7.27895384e+00, 1.00000000e+01])))]), Pipeline(steps=[('standardscaler', StandardScaler()),\n",
      "                ('ridgecv',\n",
      "                 RidgeCV(alphas=array([1.00000000e-03, 1.37382380e-03, 1.88739182e-03, 2.59294380e-03,\n",
      "       3.56224789e-03, 4.89390092e-03, 6.72335754e-03, 9.23670857e-03,\n",
      "       1.26896100e-02, 1.74332882e-02, 2.39502662e-02, 3.29034456e-02,\n",
      "       4.52035366e-02, 6.21016942e-02, 8.53167852e-02, 1.17210230e-01,\n",
      "       1.61026203e-01, 2.21221629e-01, 3.03919538e-01, 4.17531894e-01,\n",
      "       5.73615251e-01, 7.88046282e-01, 1.08263673e+00, 1.48735211e+00,\n",
      "       2.04335972e+00, 2.80721620e+00, 3.85662042e+00, 5.29831691e+00,\n",
      "       7.27895384e+00, 1.00000000e+01])))]), Pipeline(steps=[('standardscaler', StandardScaler()),\n",
      "                ('ridgecv',\n",
      "                 RidgeCV(alphas=array([1.00000000e-03, 1.37382380e-03, 1.88739182e-03, 2.59294380e-03,\n",
      "       3.56224789e-03, 4.89390092e-03, 6.72335754e-03, 9.23670857e-03,\n",
      "       1.26896100e-02, 1.74332882e-02, 2.39502662e-02, 3.29034456e-02,\n",
      "       4.52035366e-02, 6.21016942e-02, 8.53167852e-02, 1.17210230e-01,\n",
      "       1.61026203e-01, 2.21221629e-01, 3.03919538e-01, 4.17531894e-01,\n",
      "       5.73615251e-01, 7.88046282e-01, 1.08263673e+00, 1.48735211e+00,\n",
      "       2.04335972e+00, 2.80721620e+00, 3.85662042e+00, 5.29831691e+00,\n",
      "       7.27895384e+00, 1.00000000e+01])))])], 'test_score': array([0.63949534, 0.60571284, 0.61115815, 0.56191319, 0.60883357])}\n"
     ]
    }
   ],
   "source": [
    "from sklearn.pipeline import make_pipeline\n",
    "from sklearn.model_selection import cross_validate\n",
    "alphas = np.logspace(-3, 1, num=30)\n",
    "\n",
    "model = make_pipeline(StandardScaler(), RidgeCV(alphas = alphas))\n",
    "cv_results = cross_validate(model, X_train, y_train, return_estimator=True, n_jobs=2)\n",
    "print(cv_results)"
   ]
  },
  {
   "cell_type": "code",
   "execution_count": 20,
   "id": "3a022c55-4b7a-407e-b78b-2ae1354e59cb",
   "metadata": {},
   "outputs": [
    {
     "name": "stdout",
     "output_type": "stream",
     "text": [
      "[0.63949534 0.60571284 0.61115815 0.56191319 0.60883357]\n",
      "R2 score: 0.605 ± 0.025\n"
     ]
    }
   ],
   "source": [
    "score = cv_results['test_score']\n",
    "print(score)\n",
    "print(f'R2 score: {score.mean():.3f} ± {score.std():.3f}')"
   ]
  },
  {
   "cell_type": "code",
   "execution_count": 21,
   "id": "bf40c3a7-fb8f-4c11-8b18-308ca197c711",
   "metadata": {},
   "outputs": [
    {
     "name": "stdout",
     "output_type": "stream",
     "text": [
      "{'fit_time': array([0.07813787, 0.07813787, 0.09417152, 0.07854629, 0.06291699]), 'score_time': array([0.        , 0.        , 0.        , 0.01562452, 0.01562428]), 'estimator': [Pipeline(steps=[('standardscaler', StandardScaler()),\n",
      "                ('elasticnetcv',\n",
      "                 ElasticNetCV(alphas=array([1.00000000e-03, 1.37382380e-03, 1.88739182e-03, 2.59294380e-03,\n",
      "       3.56224789e-03, 4.89390092e-03, 6.72335754e-03, 9.23670857e-03,\n",
      "       1.26896100e-02, 1.74332882e-02, 2.39502662e-02, 3.29034456e-02,\n",
      "       4.52035366e-02, 6.21016942e-02, 8.53167852e-02, 1.17210230e-01,\n",
      "       1.61026203e-01, 2.21221629e-01, 3.03919538e-01, 4.17531894e-01,\n",
      "       5.73615251e-01, 7.88046282e-01, 1.08263673e+00, 1.48735211e+00,\n",
      "       2.04335972e+00, 2.80721620e+00, 3.85662042e+00, 5.29831691e+00,\n",
      "       7.27895384e+00, 1.00000000e+01])))]), Pipeline(steps=[('standardscaler', StandardScaler()),\n",
      "                ('elasticnetcv',\n",
      "                 ElasticNetCV(alphas=array([1.00000000e-03, 1.37382380e-03, 1.88739182e-03, 2.59294380e-03,\n",
      "       3.56224789e-03, 4.89390092e-03, 6.72335754e-03, 9.23670857e-03,\n",
      "       1.26896100e-02, 1.74332882e-02, 2.39502662e-02, 3.29034456e-02,\n",
      "       4.52035366e-02, 6.21016942e-02, 8.53167852e-02, 1.17210230e-01,\n",
      "       1.61026203e-01, 2.21221629e-01, 3.03919538e-01, 4.17531894e-01,\n",
      "       5.73615251e-01, 7.88046282e-01, 1.08263673e+00, 1.48735211e+00,\n",
      "       2.04335972e+00, 2.80721620e+00, 3.85662042e+00, 5.29831691e+00,\n",
      "       7.27895384e+00, 1.00000000e+01])))]), Pipeline(steps=[('standardscaler', StandardScaler()),\n",
      "                ('elasticnetcv',\n",
      "                 ElasticNetCV(alphas=array([1.00000000e-03, 1.37382380e-03, 1.88739182e-03, 2.59294380e-03,\n",
      "       3.56224789e-03, 4.89390092e-03, 6.72335754e-03, 9.23670857e-03,\n",
      "       1.26896100e-02, 1.74332882e-02, 2.39502662e-02, 3.29034456e-02,\n",
      "       4.52035366e-02, 6.21016942e-02, 8.53167852e-02, 1.17210230e-01,\n",
      "       1.61026203e-01, 2.21221629e-01, 3.03919538e-01, 4.17531894e-01,\n",
      "       5.73615251e-01, 7.88046282e-01, 1.08263673e+00, 1.48735211e+00,\n",
      "       2.04335972e+00, 2.80721620e+00, 3.85662042e+00, 5.29831691e+00,\n",
      "       7.27895384e+00, 1.00000000e+01])))]), Pipeline(steps=[('standardscaler', StandardScaler()),\n",
      "                ('elasticnetcv',\n",
      "                 ElasticNetCV(alphas=array([1.00000000e-03, 1.37382380e-03, 1.88739182e-03, 2.59294380e-03,\n",
      "       3.56224789e-03, 4.89390092e-03, 6.72335754e-03, 9.23670857e-03,\n",
      "       1.26896100e-02, 1.74332882e-02, 2.39502662e-02, 3.29034456e-02,\n",
      "       4.52035366e-02, 6.21016942e-02, 8.53167852e-02, 1.17210230e-01,\n",
      "       1.61026203e-01, 2.21221629e-01, 3.03919538e-01, 4.17531894e-01,\n",
      "       5.73615251e-01, 7.88046282e-01, 1.08263673e+00, 1.48735211e+00,\n",
      "       2.04335972e+00, 2.80721620e+00, 3.85662042e+00, 5.29831691e+00,\n",
      "       7.27895384e+00, 1.00000000e+01])))]), Pipeline(steps=[('standardscaler', StandardScaler()),\n",
      "                ('elasticnetcv',\n",
      "                 ElasticNetCV(alphas=array([1.00000000e-03, 1.37382380e-03, 1.88739182e-03, 2.59294380e-03,\n",
      "       3.56224789e-03, 4.89390092e-03, 6.72335754e-03, 9.23670857e-03,\n",
      "       1.26896100e-02, 1.74332882e-02, 2.39502662e-02, 3.29034456e-02,\n",
      "       4.52035366e-02, 6.21016942e-02, 8.53167852e-02, 1.17210230e-01,\n",
      "       1.61026203e-01, 2.21221629e-01, 3.03919538e-01, 4.17531894e-01,\n",
      "       5.73615251e-01, 7.88046282e-01, 1.08263673e+00, 1.48735211e+00,\n",
      "       2.04335972e+00, 2.80721620e+00, 3.85662042e+00, 5.29831691e+00,\n",
      "       7.27895384e+00, 1.00000000e+01])))])], 'test_score': array([0.63743739, 0.60518845, 0.61003564, 0.56258959, 0.60863722])}\n"
     ]
    }
   ],
   "source": [
    "alphas = np.logspace(-3, 1, num=30)\n",
    "\n",
    "model = make_pipeline(StandardScaler(), ElasticNetCV(alphas = alphas))\n",
    "cv_results = cross_validate(model, X_train, y_train, return_estimator=True, n_jobs=2)\n",
    "print(cv_results) "
   ]
  },
  {
   "cell_type": "code",
   "execution_count": 22,
   "id": "217fce51-fd2f-4953-8dbc-f353d1cc237f",
   "metadata": {},
   "outputs": [
    {
     "name": "stdout",
     "output_type": "stream",
     "text": [
      "[0.63743739 0.60518845 0.61003564 0.56258959 0.60863722]\n",
      "R2 score: 0.605 ± 0.024\n"
     ]
    }
   ],
   "source": [
    "score = cv_results['test_score']\n",
    "print(score)\n",
    "print(f'R2 score: {score.mean():.3f} ± {score.std():.3f}')"
   ]
  },
  {
   "cell_type": "code",
   "execution_count": 24,
   "id": "f3f865f5-d445-4245-9e4b-9eaa0d3dec84",
   "metadata": {},
   "outputs": [
    {
     "name": "stdout",
     "output_type": "stream",
     "text": [
      "Defaulting to user installation because normal site-packages is not writeable\n",
      "Requirement already satisfied: ucimlrepo in c:\\users\\aryan\\appdata\\roaming\\python\\python311\\site-packages (0.0.7)\n",
      "Requirement already satisfied: pandas>=1.0.0 in c:\\programdata\\anaconda3\\lib\\site-packages (from ucimlrepo) (2.1.4)\n",
      "Requirement already satisfied: certifi>=2020.12.5 in c:\\programdata\\anaconda3\\lib\\site-packages (from ucimlrepo) (2024.2.2)\n",
      "Requirement already satisfied: numpy<2,>=1.23.2 in c:\\programdata\\anaconda3\\lib\\site-packages (from pandas>=1.0.0->ucimlrepo) (1.26.4)\n",
      "Requirement already satisfied: python-dateutil>=2.8.2 in c:\\programdata\\anaconda3\\lib\\site-packages (from pandas>=1.0.0->ucimlrepo) (2.8.2)\n",
      "Requirement already satisfied: pytz>=2020.1 in c:\\programdata\\anaconda3\\lib\\site-packages (from pandas>=1.0.0->ucimlrepo) (2023.3.post1)\n",
      "Requirement already satisfied: tzdata>=2022.1 in c:\\programdata\\anaconda3\\lib\\site-packages (from pandas>=1.0.0->ucimlrepo) (2023.3)\n",
      "Requirement already satisfied: six>=1.5 in c:\\programdata\\anaconda3\\lib\\site-packages (from python-dateutil>=2.8.2->pandas>=1.0.0->ucimlrepo) (1.16.0)\n",
      "Note: you may need to restart the kernel to use updated packages.\n"
     ]
    }
   ],
   "source": [
    "pip install ucimlrepo"
   ]
  },
  {
   "cell_type": "code",
   "execution_count": 30,
   "id": "ab6aba4d-fdd2-47d8-aeb5-c225d6bcd885",
   "metadata": {},
   "outputs": [],
   "source": [
    "from ucimlrepo import fetch_ucirepo\n",
    "\n",
    "# fetch dataset\n",
    "wine_quality = fetch_ucirepo(id = 186)"
   ]
  },
  {
   "cell_type": "code",
   "execution_count": 32,
   "id": "ff898601-2c67-4eec-aa3f-1ffb3438e274",
   "metadata": {},
   "outputs": [
    {
     "data": {
      "text/html": [
       "<div>\n",
       "<style scoped>\n",
       "    .dataframe tbody tr th:only-of-type {\n",
       "        vertical-align: middle;\n",
       "    }\n",
       "\n",
       "    .dataframe tbody tr th {\n",
       "        vertical-align: top;\n",
       "    }\n",
       "\n",
       "    .dataframe thead th {\n",
       "        text-align: right;\n",
       "    }\n",
       "</style>\n",
       "<table border=\"1\" class=\"dataframe\">\n",
       "  <thead>\n",
       "    <tr style=\"text-align: right;\">\n",
       "      <th></th>\n",
       "      <th>quality</th>\n",
       "    </tr>\n",
       "  </thead>\n",
       "  <tbody>\n",
       "    <tr>\n",
       "      <th>0</th>\n",
       "      <td>5</td>\n",
       "    </tr>\n",
       "    <tr>\n",
       "      <th>1</th>\n",
       "      <td>5</td>\n",
       "    </tr>\n",
       "    <tr>\n",
       "      <th>2</th>\n",
       "      <td>5</td>\n",
       "    </tr>\n",
       "    <tr>\n",
       "      <th>3</th>\n",
       "      <td>6</td>\n",
       "    </tr>\n",
       "    <tr>\n",
       "      <th>4</th>\n",
       "      <td>5</td>\n",
       "    </tr>\n",
       "    <tr>\n",
       "      <th>...</th>\n",
       "      <td>...</td>\n",
       "    </tr>\n",
       "    <tr>\n",
       "      <th>6492</th>\n",
       "      <td>6</td>\n",
       "    </tr>\n",
       "    <tr>\n",
       "      <th>6493</th>\n",
       "      <td>5</td>\n",
       "    </tr>\n",
       "    <tr>\n",
       "      <th>6494</th>\n",
       "      <td>6</td>\n",
       "    </tr>\n",
       "    <tr>\n",
       "      <th>6495</th>\n",
       "      <td>7</td>\n",
       "    </tr>\n",
       "    <tr>\n",
       "      <th>6496</th>\n",
       "      <td>6</td>\n",
       "    </tr>\n",
       "  </tbody>\n",
       "</table>\n",
       "<p>6497 rows × 1 columns</p>\n",
       "</div>"
      ],
      "text/plain": [
       "      quality\n",
       "0           5\n",
       "1           5\n",
       "2           5\n",
       "3           6\n",
       "4           5\n",
       "...       ...\n",
       "6492        6\n",
       "6493        5\n",
       "6494        6\n",
       "6495        7\n",
       "6496        6\n",
       "\n",
       "[6497 rows x 1 columns]"
      ]
     },
     "execution_count": 32,
     "metadata": {},
     "output_type": "execute_result"
    }
   ],
   "source": [
    "# data (as pandas dataframe)\n",
    "X = wine_quality.data.features\n",
    "y = wine_quality.data.targets\n",
    "y"
   ]
  },
  {
   "cell_type": "code",
   "execution_count": 33,
   "id": "6b4923a2-ba2a-4baf-81fd-fe30b0909e90",
   "metadata": {},
   "outputs": [
    {
     "data": {
      "text/plain": [
       "{'uci_id': 186,\n",
       " 'name': 'Wine Quality',\n",
       " 'repository_url': 'https://archive.ics.uci.edu/dataset/186/wine+quality',\n",
       " 'data_url': 'https://archive.ics.uci.edu/static/public/186/data.csv',\n",
       " 'abstract': 'Two datasets are included, related to red and white vinho verde wine samples, from the north of Portugal. The goal is to model wine quality based on physicochemical tests (see [Cortez et al., 2009], http://www3.dsi.uminho.pt/pcortez/wine/).',\n",
       " 'area': 'Business',\n",
       " 'tasks': ['Classification', 'Regression'],\n",
       " 'characteristics': ['Multivariate'],\n",
       " 'num_instances': 4898,\n",
       " 'num_features': 11,\n",
       " 'feature_types': ['Real'],\n",
       " 'demographics': [],\n",
       " 'target_col': ['quality'],\n",
       " 'index_col': None,\n",
       " 'has_missing_values': 'no',\n",
       " 'missing_values_symbol': None,\n",
       " 'year_of_dataset_creation': 2009,\n",
       " 'last_updated': 'Wed Nov 15 2023',\n",
       " 'dataset_doi': '10.24432/C56S3T',\n",
       " 'creators': ['Paulo Cortez',\n",
       "  'A. Cerdeira',\n",
       "  'F. Almeida',\n",
       "  'T. Matos',\n",
       "  'J. Reis'],\n",
       " 'intro_paper': {'title': 'Modeling wine preferences by data mining from physicochemical properties',\n",
       "  'authors': 'P. Cortez, A. Cerdeira, Fernando Almeida, Telmo Matos, J. Reis',\n",
       "  'published_in': 'Decision Support Systems',\n",
       "  'year': 2009,\n",
       "  'url': 'https://www.semanticscholar.org/paper/Modeling-wine-preferences-by-data-mining-from-Cortez-Cerdeira/bf15a0ccc14ac1deb5cea570c870389c16be019c',\n",
       "  'doi': None},\n",
       " 'additional_info': {'summary': 'The two datasets are related to red and white variants of the Portuguese \"Vinho Verde\" wine. For more details, consult: http://www.vinhoverde.pt/en/ or the reference [Cortez et al., 2009].  Due to privacy and logistic issues, only physicochemical (inputs) and sensory (the output) variables are available (e.g. there is no data about grape types, wine brand, wine selling price, etc.).\\n\\nThese datasets can be viewed as classification or regression tasks.  The classes are ordered and not balanced (e.g. there are many more normal wines than excellent or poor ones). Outlier detection algorithms could be used to detect the few excellent or poor wines. Also, we are not sure if all input variables are relevant. So it could be interesting to test feature selection methods.\\n',\n",
       "  'purpose': None,\n",
       "  'funded_by': None,\n",
       "  'instances_represent': None,\n",
       "  'recommended_data_splits': None,\n",
       "  'sensitive_data': None,\n",
       "  'preprocessing_description': None,\n",
       "  'variable_info': 'For more information, read [Cortez et al., 2009].\\r\\nInput variables (based on physicochemical tests):\\r\\n   1 - fixed acidity\\r\\n   2 - volatile acidity\\r\\n   3 - citric acid\\r\\n   4 - residual sugar\\r\\n   5 - chlorides\\r\\n   6 - free sulfur dioxide\\r\\n   7 - total sulfur dioxide\\r\\n   8 - density\\r\\n   9 - pH\\r\\n   10 - sulphates\\r\\n   11 - alcohol\\r\\nOutput variable (based on sensory data): \\r\\n   12 - quality (score between 0 and 10)',\n",
       "  'citation': None}}"
      ]
     },
     "execution_count": 33,
     "metadata": {},
     "output_type": "execute_result"
    }
   ],
   "source": [
    "# metadata \n",
    "wine_quality.metadata"
   ]
  },
  {
   "cell_type": "code",
   "execution_count": 34,
   "id": "0542975f-17a4-4e3e-9165-7b12fad89fda",
   "metadata": {},
   "outputs": [
    {
     "data": {
      "text/html": [
       "<div>\n",
       "<style scoped>\n",
       "    .dataframe tbody tr th:only-of-type {\n",
       "        vertical-align: middle;\n",
       "    }\n",
       "\n",
       "    .dataframe tbody tr th {\n",
       "        vertical-align: top;\n",
       "    }\n",
       "\n",
       "    .dataframe thead th {\n",
       "        text-align: right;\n",
       "    }\n",
       "</style>\n",
       "<table border=\"1\" class=\"dataframe\">\n",
       "  <thead>\n",
       "    <tr style=\"text-align: right;\">\n",
       "      <th></th>\n",
       "      <th>name</th>\n",
       "      <th>role</th>\n",
       "      <th>type</th>\n",
       "      <th>demographic</th>\n",
       "      <th>description</th>\n",
       "      <th>units</th>\n",
       "      <th>missing_values</th>\n",
       "    </tr>\n",
       "  </thead>\n",
       "  <tbody>\n",
       "    <tr>\n",
       "      <th>0</th>\n",
       "      <td>fixed_acidity</td>\n",
       "      <td>Feature</td>\n",
       "      <td>Continuous</td>\n",
       "      <td>None</td>\n",
       "      <td>None</td>\n",
       "      <td>None</td>\n",
       "      <td>no</td>\n",
       "    </tr>\n",
       "    <tr>\n",
       "      <th>1</th>\n",
       "      <td>volatile_acidity</td>\n",
       "      <td>Feature</td>\n",
       "      <td>Continuous</td>\n",
       "      <td>None</td>\n",
       "      <td>None</td>\n",
       "      <td>None</td>\n",
       "      <td>no</td>\n",
       "    </tr>\n",
       "    <tr>\n",
       "      <th>2</th>\n",
       "      <td>citric_acid</td>\n",
       "      <td>Feature</td>\n",
       "      <td>Continuous</td>\n",
       "      <td>None</td>\n",
       "      <td>None</td>\n",
       "      <td>None</td>\n",
       "      <td>no</td>\n",
       "    </tr>\n",
       "    <tr>\n",
       "      <th>3</th>\n",
       "      <td>residual_sugar</td>\n",
       "      <td>Feature</td>\n",
       "      <td>Continuous</td>\n",
       "      <td>None</td>\n",
       "      <td>None</td>\n",
       "      <td>None</td>\n",
       "      <td>no</td>\n",
       "    </tr>\n",
       "    <tr>\n",
       "      <th>4</th>\n",
       "      <td>chlorides</td>\n",
       "      <td>Feature</td>\n",
       "      <td>Continuous</td>\n",
       "      <td>None</td>\n",
       "      <td>None</td>\n",
       "      <td>None</td>\n",
       "      <td>no</td>\n",
       "    </tr>\n",
       "    <tr>\n",
       "      <th>5</th>\n",
       "      <td>free_sulfur_dioxide</td>\n",
       "      <td>Feature</td>\n",
       "      <td>Continuous</td>\n",
       "      <td>None</td>\n",
       "      <td>None</td>\n",
       "      <td>None</td>\n",
       "      <td>no</td>\n",
       "    </tr>\n",
       "    <tr>\n",
       "      <th>6</th>\n",
       "      <td>total_sulfur_dioxide</td>\n",
       "      <td>Feature</td>\n",
       "      <td>Continuous</td>\n",
       "      <td>None</td>\n",
       "      <td>None</td>\n",
       "      <td>None</td>\n",
       "      <td>no</td>\n",
       "    </tr>\n",
       "    <tr>\n",
       "      <th>7</th>\n",
       "      <td>density</td>\n",
       "      <td>Feature</td>\n",
       "      <td>Continuous</td>\n",
       "      <td>None</td>\n",
       "      <td>None</td>\n",
       "      <td>None</td>\n",
       "      <td>no</td>\n",
       "    </tr>\n",
       "    <tr>\n",
       "      <th>8</th>\n",
       "      <td>pH</td>\n",
       "      <td>Feature</td>\n",
       "      <td>Continuous</td>\n",
       "      <td>None</td>\n",
       "      <td>None</td>\n",
       "      <td>None</td>\n",
       "      <td>no</td>\n",
       "    </tr>\n",
       "    <tr>\n",
       "      <th>9</th>\n",
       "      <td>sulphates</td>\n",
       "      <td>Feature</td>\n",
       "      <td>Continuous</td>\n",
       "      <td>None</td>\n",
       "      <td>None</td>\n",
       "      <td>None</td>\n",
       "      <td>no</td>\n",
       "    </tr>\n",
       "    <tr>\n",
       "      <th>10</th>\n",
       "      <td>alcohol</td>\n",
       "      <td>Feature</td>\n",
       "      <td>Continuous</td>\n",
       "      <td>None</td>\n",
       "      <td>None</td>\n",
       "      <td>None</td>\n",
       "      <td>no</td>\n",
       "    </tr>\n",
       "    <tr>\n",
       "      <th>11</th>\n",
       "      <td>quality</td>\n",
       "      <td>Target</td>\n",
       "      <td>Integer</td>\n",
       "      <td>None</td>\n",
       "      <td>score between 0 and 10</td>\n",
       "      <td>None</td>\n",
       "      <td>no</td>\n",
       "    </tr>\n",
       "    <tr>\n",
       "      <th>12</th>\n",
       "      <td>color</td>\n",
       "      <td>Other</td>\n",
       "      <td>Categorical</td>\n",
       "      <td>None</td>\n",
       "      <td>red or white</td>\n",
       "      <td>None</td>\n",
       "      <td>no</td>\n",
       "    </tr>\n",
       "  </tbody>\n",
       "</table>\n",
       "</div>"
      ],
      "text/plain": [
       "                    name     role         type demographic  \\\n",
       "0          fixed_acidity  Feature   Continuous        None   \n",
       "1       volatile_acidity  Feature   Continuous        None   \n",
       "2            citric_acid  Feature   Continuous        None   \n",
       "3         residual_sugar  Feature   Continuous        None   \n",
       "4              chlorides  Feature   Continuous        None   \n",
       "5    free_sulfur_dioxide  Feature   Continuous        None   \n",
       "6   total_sulfur_dioxide  Feature   Continuous        None   \n",
       "7                density  Feature   Continuous        None   \n",
       "8                     pH  Feature   Continuous        None   \n",
       "9              sulphates  Feature   Continuous        None   \n",
       "10               alcohol  Feature   Continuous        None   \n",
       "11               quality   Target      Integer        None   \n",
       "12                 color    Other  Categorical        None   \n",
       "\n",
       "               description units missing_values  \n",
       "0                     None  None             no  \n",
       "1                     None  None             no  \n",
       "2                     None  None             no  \n",
       "3                     None  None             no  \n",
       "4                     None  None             no  \n",
       "5                     None  None             no  \n",
       "6                     None  None             no  \n",
       "7                     None  None             no  \n",
       "8                     None  None             no  \n",
       "9                     None  None             no  \n",
       "10                    None  None             no  \n",
       "11  score between 0 and 10  None             no  \n",
       "12            red or white  None             no  "
      ]
     },
     "execution_count": 34,
     "metadata": {},
     "output_type": "execute_result"
    }
   ],
   "source": [
    "# variable information\n",
    "wine_quality.variables"
   ]
  },
  {
   "cell_type": "code",
   "execution_count": null,
   "id": "780f546f-8321-4faa-9ece-02bba85ce617",
   "metadata": {},
   "outputs": [],
   "source": []
  }
 ],
 "metadata": {
  "kernelspec": {
   "display_name": "Python 3 (ipykernel)",
   "language": "python",
   "name": "python3"
  },
  "language_info": {
   "codemirror_mode": {
    "name": "ipython",
    "version": 3
   },
   "file_extension": ".py",
   "mimetype": "text/x-python",
   "name": "python",
   "nbconvert_exporter": "python",
   "pygments_lexer": "ipython3",
   "version": "3.11.7"
  }
 },
 "nbformat": 4,
 "nbformat_minor": 5
}
